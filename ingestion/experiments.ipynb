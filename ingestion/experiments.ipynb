{
 "cells": [
  {
   "cell_type": "code",
   "execution_count": 9,
   "metadata": {},
   "outputs": [],
   "source": [
    "import os, glob\n",
    "\n",
    "from langchain_community.document_loaders import PyPDFLoader\n",
    "\n",
    "file_path = \"/mnt/d/LLM-Project/FinalRAG-Retrieval/ARXIV_SOURCES\"\n",
    "files = glob.glob(file_path + \"/*\")\n",
    "idx = 10 \n",
    "pdf = os.path.join(files[idx], files[idx].split(\"/\")[-1] + \".pdf\")\n",
    "\n",
    "loader = PyPDFLoader(pdf)\n",
    "\n",
    "data = loader.load_and_split()"
   ]
  },
  {
   "cell_type": "code",
   "execution_count": 16,
   "metadata": {},
   "outputs": [],
   "source": [
    "import arxiv\n",
    "client = arxiv.Client()\n",
    "search = arxiv.Search(id_list=[files[idx].split(\"/\")[-1]])\n",
    "paper = next(arxiv.Client().results(search))\n",
    "meta_data = {\"arxiv_id\": paper.entry_id, \n",
    "            \"title\": paper.title, \n",
    "            \"categories\" : '\\n'.join([f'{i+1}. {cat}' for i, cat in enumerate(paper.categories)]),\n",
    "            \"primary_category\": paper.primary_category,\n",
    "            \"published\": str(paper.published),\n",
    "            \"authors\": '\\n'.join([f'{i+1}. {auth.name}' for i, auth in enumerate(paper.authors)])\n",
    "            }"
   ]
  },
  {
   "cell_type": "code",
   "execution_count": null,
   "metadata": {},
   "outputs": [],
   "source": []
  },
  {
   "cell_type": "code",
   "execution_count": 17,
   "metadata": {},
   "outputs": [
    {
     "name": "stdout",
     "output_type": "stream",
     "text": [
      "Deep-inelastic electron-deuteron scattering with spectator nucleon tagging\n",
      "at the electron-ion collider. Extracting free nucleon structure\n",
      "Alexander Jentsch,1Zhoudunming Tu,1, 2and Christian Weiss3\n",
      "1Department of Physics, Brookhaven National Laboratory, Upton, New York 11973, USA∗\n",
      "2Center for Frontiers in Nuclear Science, Stony Brook, New York 11794, USA†\n",
      "3Theory Center, Jeﬀerson Lab, Newport News, Virginia 23606, USA‡\n",
      "(Dated: August 20, 2021)\n",
      "Background: Deep-inelastic scattering (DIS) on the deuteron with spectator nucleon tagging represents a unique\n",
      "method for extracting the free neutron structure functions and exploring the nuclear modiﬁcations of bound\n",
      "protons and neutrons. The detection of the spectator (with typical momenta ≲100 MeV/cin the deuteron\n",
      "rest frame) controls the nuclear conﬁguration during the DIS process and enables a diﬀerential analysis of nuclear\n",
      "eﬀects. At the future electron-ion collider (EIC) such measurements will be performed using far-forward detectors.\n",
      "Purpose: Simulate deuteron DIS with proton or neutron tagging with the baseline EIC far-forward detector\n",
      "design. Quantify detector acceptance and resolution eﬀects. Study feasibility of free nucleon structure extraction\n",
      "using pole extrapolation in the spectator momentum.\n",
      "Methods: DIS events with proton and neutron spectators are generated using the BeAGLE Monte Carlo gener-\n",
      "ator. The spectator nucleon momentum is reconstructed including eﬀects of detector acceptance and resolution.\n",
      "Pole extrapolation is performed under realistic conditions. The free nucleon structure extraction is validated by\n",
      "comparing with the input model.\n",
      "Results: Proton and neutron spectator detection is possible over the full transverse momentum range 0 <pT<\n",
      "100 MeV/cneeded for pole extrapolation. Resolution eﬀects on the distributions before corrections are ∼10%\n",
      "for proton and∼30% for neutron spectators. The overall accuracy of nucleon structure extraction is expected to\n",
      "be at the few-percent level.\n",
      "Conclusions: Free neutron structure extraction through proton tagging and pole extrapolation is feasible with\n",
      "the baseline EIC far-forward detector design. The corresponding extraction of free proton structure through\n",
      "neutron tagging provides a reference point for future studies of nuclear modiﬁcations.\n",
      "Keywords: Deep-inelastic scattering, deuteron, neutron, electron-ion collider\n",
      "CONTENTS\n",
      "I. Introduction 2\n",
      "II. Process and theory 4\n",
      "A. Kinematic variables 4\n",
      "B. Diﬀerential cross section 5\n",
      "C. Deuteron structure description 6\n",
      "D. Nucleon structure extraction 7\n",
      "E. Integration over spectator momentum 8\n",
      "F. Pole extrapolation in spectator momentum 8\n",
      "III. Simulation tools and detectors 10\n",
      "A. BeAGLE Monte Carlo generator 10\n",
      "B. Kinematics and event sample 11\n",
      "C. EIC far-forward detectors 11\n",
      "D. Momentum reconstruction 13\n",
      "IV. Analysis and results 13\n",
      "A. Deuteron cross section measurement 13\n",
      "B. Implementation of pole removal 14\n",
      "C. Nucleon structure from pole extrapolation 16\n",
      "∗ajentsch@bnl.gov\n",
      "†zhoudunming@bnl.gov\n",
      "‡weiss@jlab.orgD. Validation of nucleon structure extraction 17\n",
      "V. Discussion 17\n",
      "A. Experimental uncertainties and eﬀects 17\n",
      "B. Theoretical and ﬁt uncertainties 19\n",
      "VI. Conclusions 21\n",
      "VII. Extensions 21\n",
      "Acknowledgments 22\n",
      "A. Deuteron structure model 22\n",
      "1. Light-front spectral function 22\n",
      "2. Proton and neutron momenta 23\n",
      "3. Spin degrees of freedom 24\n",
      "4. Non-relativistic approximation 25\n",
      "5. Nucleon pole 25\n",
      "6. Two-pole parametrization 26\n",
      "B. Detector simulations 26\n",
      "1. Geometric acceptance 26\n",
      "2. Momentum resolution 28\n",
      "References 30arXiv:2108.08314v1  [hep-ph]  18 Aug 2021\n"
     ]
    }
   ],
   "source": [
    "print(f\"\"\"{data[0].page_content}\"\"\")"
   ]
  },
  {
   "cell_type": "code",
   "execution_count": null,
   "metadata": {},
   "outputs": [],
   "source": []
  },
  {
   "cell_type": "code",
   "execution_count": 18,
   "metadata": {},
   "outputs": [],
   "source": [
    "from langchain.text_splitter import RecursiveCharacterTextSplitter\n",
    "\n",
    "text_splitter = RecursiveCharacterTextSplitter(chunk_size=200, chunk_overlap=20)\n",
    "texts = text_splitter.create_documents([data[0].page_content], metadatas = [meta_data]+ [data[0].metadata])"
   ]
  },
  {
   "cell_type": "code",
   "execution_count": 20,
   "metadata": {},
   "outputs": [
    {
     "data": {
      "text/plain": [
       "{'source': '/mnt/d/LLM-Project/FinalRAG-Retrieval/ARXIV_SOURCES/2108.08314v1/2108.08314v1.pdf',\n",
       " 'page': 0}"
      ]
     },
     "execution_count": 20,
     "metadata": {},
     "output_type": "execute_result"
    }
   ],
   "source": [
    "data[0].metadata"
   ]
  },
  {
   "cell_type": "code",
   "execution_count": 19,
   "metadata": {},
   "outputs": [
    {
     "data": {
      "text/plain": [
       "[Document(page_content='Deep-inelastic electron-deuteron scattering with spectator nucleon tagging\\nat the electron-ion collider. Extracting free nucleon structure\\nAlexander Jentsch,1Zhoudunming Tu,1, 2and Christian Weiss3', metadata={'arxiv_id': 'http://arxiv.org/abs/2108.08314v1', 'title': 'Deep-inelastic electron-deuteron scattering with spectator nucleon tagging at the electron-ion collider. Extracting free nucleon structure', 'categories': '1. hep-ph\\n2. hep-ex\\n3. nucl-ex', 'primary_category': 'hep-ph', 'published': '2021-08-18 18:00:04+00:00', 'authors': '1. Alexander Jentsch\\n2. Zhoudunming Tu\\n3. Christian Weiss'}),\n",
       " Document(page_content='1Department of Physics, Brookhaven National Laboratory, Upton, New York 11973, USA∗\\n2Center for Frontiers in Nuclear Science, Stony Brook, New York 11794, USA†', metadata={'arxiv_id': 'http://arxiv.org/abs/2108.08314v1', 'title': 'Deep-inelastic electron-deuteron scattering with spectator nucleon tagging at the electron-ion collider. Extracting free nucleon structure', 'categories': '1. hep-ph\\n2. hep-ex\\n3. nucl-ex', 'primary_category': 'hep-ph', 'published': '2021-08-18 18:00:04+00:00', 'authors': '1. Alexander Jentsch\\n2. Zhoudunming Tu\\n3. Christian Weiss'}),\n",
       " Document(page_content='3Theory Center, Jeﬀerson Lab, Newport News, Virginia 23606, USA‡\\n(Dated: August 20, 2021)', metadata={'arxiv_id': 'http://arxiv.org/abs/2108.08314v1', 'title': 'Deep-inelastic electron-deuteron scattering with spectator nucleon tagging at the electron-ion collider. Extracting free nucleon structure', 'categories': '1. hep-ph\\n2. hep-ex\\n3. nucl-ex', 'primary_category': 'hep-ph', 'published': '2021-08-18 18:00:04+00:00', 'authors': '1. Alexander Jentsch\\n2. Zhoudunming Tu\\n3. Christian Weiss'}),\n",
       " Document(page_content='Background: Deep-inelastic scattering (DIS) on the deuteron with spectator nucleon tagging represents a unique', metadata={'arxiv_id': 'http://arxiv.org/abs/2108.08314v1', 'title': 'Deep-inelastic electron-deuteron scattering with spectator nucleon tagging at the electron-ion collider. Extracting free nucleon structure', 'categories': '1. hep-ph\\n2. hep-ex\\n3. nucl-ex', 'primary_category': 'hep-ph', 'published': '2021-08-18 18:00:04+00:00', 'authors': '1. Alexander Jentsch\\n2. Zhoudunming Tu\\n3. Christian Weiss'}),\n",
       " Document(page_content='method for extracting the free neutron structure functions and exploring the nuclear modiﬁcations of bound', metadata={'arxiv_id': 'http://arxiv.org/abs/2108.08314v1', 'title': 'Deep-inelastic electron-deuteron scattering with spectator nucleon tagging at the electron-ion collider. Extracting free nucleon structure', 'categories': '1. hep-ph\\n2. hep-ex\\n3. nucl-ex', 'primary_category': 'hep-ph', 'published': '2021-08-18 18:00:04+00:00', 'authors': '1. Alexander Jentsch\\n2. Zhoudunming Tu\\n3. Christian Weiss'}),\n",
       " Document(page_content='protons and neutrons. The detection of the spectator (with typical momenta ≲100 MeV/cin the deuteron', metadata={'arxiv_id': 'http://arxiv.org/abs/2108.08314v1', 'title': 'Deep-inelastic electron-deuteron scattering with spectator nucleon tagging at the electron-ion collider. Extracting free nucleon structure', 'categories': '1. hep-ph\\n2. hep-ex\\n3. nucl-ex', 'primary_category': 'hep-ph', 'published': '2021-08-18 18:00:04+00:00', 'authors': '1. Alexander Jentsch\\n2. Zhoudunming Tu\\n3. Christian Weiss'}),\n",
       " Document(page_content='rest frame) controls the nuclear conﬁguration during the DIS process and enables a diﬀerential analysis of nuclear', metadata={'arxiv_id': 'http://arxiv.org/abs/2108.08314v1', 'title': 'Deep-inelastic electron-deuteron scattering with spectator nucleon tagging at the electron-ion collider. Extracting free nucleon structure', 'categories': '1. hep-ph\\n2. hep-ex\\n3. nucl-ex', 'primary_category': 'hep-ph', 'published': '2021-08-18 18:00:04+00:00', 'authors': '1. Alexander Jentsch\\n2. Zhoudunming Tu\\n3. Christian Weiss'}),\n",
       " Document(page_content='eﬀects. At the future electron-ion collider (EIC) such measurements will be performed using far-forward detectors.', metadata={'arxiv_id': 'http://arxiv.org/abs/2108.08314v1', 'title': 'Deep-inelastic electron-deuteron scattering with spectator nucleon tagging at the electron-ion collider. Extracting free nucleon structure', 'categories': '1. hep-ph\\n2. hep-ex\\n3. nucl-ex', 'primary_category': 'hep-ph', 'published': '2021-08-18 18:00:04+00:00', 'authors': '1. Alexander Jentsch\\n2. Zhoudunming Tu\\n3. Christian Weiss'}),\n",
       " Document(page_content='Purpose: Simulate deuteron DIS with proton or neutron tagging with the baseline EIC far-forward detector', metadata={'arxiv_id': 'http://arxiv.org/abs/2108.08314v1', 'title': 'Deep-inelastic electron-deuteron scattering with spectator nucleon tagging at the electron-ion collider. Extracting free nucleon structure', 'categories': '1. hep-ph\\n2. hep-ex\\n3. nucl-ex', 'primary_category': 'hep-ph', 'published': '2021-08-18 18:00:04+00:00', 'authors': '1. Alexander Jentsch\\n2. Zhoudunming Tu\\n3. Christian Weiss'}),\n",
       " Document(page_content='design. Quantify detector acceptance and resolution eﬀects. Study feasibility of free nucleon structure extraction\\nusing pole extrapolation in the spectator momentum.', metadata={'arxiv_id': 'http://arxiv.org/abs/2108.08314v1', 'title': 'Deep-inelastic electron-deuteron scattering with spectator nucleon tagging at the electron-ion collider. Extracting free nucleon structure', 'categories': '1. hep-ph\\n2. hep-ex\\n3. nucl-ex', 'primary_category': 'hep-ph', 'published': '2021-08-18 18:00:04+00:00', 'authors': '1. Alexander Jentsch\\n2. Zhoudunming Tu\\n3. Christian Weiss'}),\n",
       " Document(page_content='Methods: DIS events with proton and neutron spectators are generated using the BeAGLE Monte Carlo gener-', metadata={'arxiv_id': 'http://arxiv.org/abs/2108.08314v1', 'title': 'Deep-inelastic electron-deuteron scattering with spectator nucleon tagging at the electron-ion collider. Extracting free nucleon structure', 'categories': '1. hep-ph\\n2. hep-ex\\n3. nucl-ex', 'primary_category': 'hep-ph', 'published': '2021-08-18 18:00:04+00:00', 'authors': '1. Alexander Jentsch\\n2. Zhoudunming Tu\\n3. Christian Weiss'}),\n",
       " Document(page_content='ator. The spectator nucleon momentum is reconstructed including eﬀects of detector acceptance and resolution.', metadata={'arxiv_id': 'http://arxiv.org/abs/2108.08314v1', 'title': 'Deep-inelastic electron-deuteron scattering with spectator nucleon tagging at the electron-ion collider. Extracting free nucleon structure', 'categories': '1. hep-ph\\n2. hep-ex\\n3. nucl-ex', 'primary_category': 'hep-ph', 'published': '2021-08-18 18:00:04+00:00', 'authors': '1. Alexander Jentsch\\n2. Zhoudunming Tu\\n3. Christian Weiss'}),\n",
       " Document(page_content='Pole extrapolation is performed under realistic conditions. The free nucleon structure extraction is validated by\\ncomparing with the input model.', metadata={'arxiv_id': 'http://arxiv.org/abs/2108.08314v1', 'title': 'Deep-inelastic electron-deuteron scattering with spectator nucleon tagging at the electron-ion collider. Extracting free nucleon structure', 'categories': '1. hep-ph\\n2. hep-ex\\n3. nucl-ex', 'primary_category': 'hep-ph', 'published': '2021-08-18 18:00:04+00:00', 'authors': '1. Alexander Jentsch\\n2. Zhoudunming Tu\\n3. Christian Weiss'}),\n",
       " Document(page_content='Results: Proton and neutron spectator detection is possible over the full transverse momentum range 0 <pT<', metadata={'arxiv_id': 'http://arxiv.org/abs/2108.08314v1', 'title': 'Deep-inelastic electron-deuteron scattering with spectator nucleon tagging at the electron-ion collider. Extracting free nucleon structure', 'categories': '1. hep-ph\\n2. hep-ex\\n3. nucl-ex', 'primary_category': 'hep-ph', 'published': '2021-08-18 18:00:04+00:00', 'authors': '1. Alexander Jentsch\\n2. Zhoudunming Tu\\n3. Christian Weiss'}),\n",
       " Document(page_content='100 MeV/cneeded for pole extrapolation. Resolution eﬀects on the distributions before corrections are ∼10%', metadata={'arxiv_id': 'http://arxiv.org/abs/2108.08314v1', 'title': 'Deep-inelastic electron-deuteron scattering with spectator nucleon tagging at the electron-ion collider. Extracting free nucleon structure', 'categories': '1. hep-ph\\n2. hep-ex\\n3. nucl-ex', 'primary_category': 'hep-ph', 'published': '2021-08-18 18:00:04+00:00', 'authors': '1. Alexander Jentsch\\n2. Zhoudunming Tu\\n3. Christian Weiss'}),\n",
       " Document(page_content='for proton and∼30% for neutron spectators. The overall accuracy of nucleon structure extraction is expected to\\nbe at the few-percent level.', metadata={'arxiv_id': 'http://arxiv.org/abs/2108.08314v1', 'title': 'Deep-inelastic electron-deuteron scattering with spectator nucleon tagging at the electron-ion collider. Extracting free nucleon structure', 'categories': '1. hep-ph\\n2. hep-ex\\n3. nucl-ex', 'primary_category': 'hep-ph', 'published': '2021-08-18 18:00:04+00:00', 'authors': '1. Alexander Jentsch\\n2. Zhoudunming Tu\\n3. Christian Weiss'}),\n",
       " Document(page_content='Conclusions: Free neutron structure extraction through proton tagging and pole extrapolation is feasible with', metadata={'arxiv_id': 'http://arxiv.org/abs/2108.08314v1', 'title': 'Deep-inelastic electron-deuteron scattering with spectator nucleon tagging at the electron-ion collider. Extracting free nucleon structure', 'categories': '1. hep-ph\\n2. hep-ex\\n3. nucl-ex', 'primary_category': 'hep-ph', 'published': '2021-08-18 18:00:04+00:00', 'authors': '1. Alexander Jentsch\\n2. Zhoudunming Tu\\n3. Christian Weiss'}),\n",
       " Document(page_content='the baseline EIC far-forward detector design. The corresponding extraction of free proton structure through\\nneutron tagging provides a reference point for future studies of nuclear modiﬁcations.', metadata={'arxiv_id': 'http://arxiv.org/abs/2108.08314v1', 'title': 'Deep-inelastic electron-deuteron scattering with spectator nucleon tagging at the electron-ion collider. Extracting free nucleon structure', 'categories': '1. hep-ph\\n2. hep-ex\\n3. nucl-ex', 'primary_category': 'hep-ph', 'published': '2021-08-18 18:00:04+00:00', 'authors': '1. Alexander Jentsch\\n2. Zhoudunming Tu\\n3. Christian Weiss'}),\n",
       " Document(page_content='Keywords: Deep-inelastic scattering, deuteron, neutron, electron-ion collider\\nCONTENTS\\nI. Introduction 2\\nII. Process and theory 4\\nA. Kinematic variables 4\\nB. Diﬀerential cross section 5', metadata={'arxiv_id': 'http://arxiv.org/abs/2108.08314v1', 'title': 'Deep-inelastic electron-deuteron scattering with spectator nucleon tagging at the electron-ion collider. Extracting free nucleon structure', 'categories': '1. hep-ph\\n2. hep-ex\\n3. nucl-ex', 'primary_category': 'hep-ph', 'published': '2021-08-18 18:00:04+00:00', 'authors': '1. Alexander Jentsch\\n2. Zhoudunming Tu\\n3. Christian Weiss'}),\n",
       " Document(page_content='C. Deuteron structure description 6\\nD. Nucleon structure extraction 7\\nE. Integration over spectator momentum 8\\nF. Pole extrapolation in spectator momentum 8\\nIII. Simulation tools and detectors 10', metadata={'arxiv_id': 'http://arxiv.org/abs/2108.08314v1', 'title': 'Deep-inelastic electron-deuteron scattering with spectator nucleon tagging at the electron-ion collider. Extracting free nucleon structure', 'categories': '1. hep-ph\\n2. hep-ex\\n3. nucl-ex', 'primary_category': 'hep-ph', 'published': '2021-08-18 18:00:04+00:00', 'authors': '1. Alexander Jentsch\\n2. Zhoudunming Tu\\n3. Christian Weiss'}),\n",
       " Document(page_content='A. BeAGLE Monte Carlo generator 10\\nB. Kinematics and event sample 11\\nC. EIC far-forward detectors 11\\nD. Momentum reconstruction 13\\nIV. Analysis and results 13\\nA. Deuteron cross section measurement 13', metadata={'arxiv_id': 'http://arxiv.org/abs/2108.08314v1', 'title': 'Deep-inelastic electron-deuteron scattering with spectator nucleon tagging at the electron-ion collider. Extracting free nucleon structure', 'categories': '1. hep-ph\\n2. hep-ex\\n3. nucl-ex', 'primary_category': 'hep-ph', 'published': '2021-08-18 18:00:04+00:00', 'authors': '1. Alexander Jentsch\\n2. Zhoudunming Tu\\n3. Christian Weiss'}),\n",
       " Document(page_content='B. Implementation of pole removal 14\\nC. Nucleon structure from pole extrapolation 16\\n∗ajentsch@bnl.gov\\n†zhoudunming@bnl.gov\\n‡weiss@jlab.orgD. Validation of nucleon structure extraction 17', metadata={'arxiv_id': 'http://arxiv.org/abs/2108.08314v1', 'title': 'Deep-inelastic electron-deuteron scattering with spectator nucleon tagging at the electron-ion collider. Extracting free nucleon structure', 'categories': '1. hep-ph\\n2. hep-ex\\n3. nucl-ex', 'primary_category': 'hep-ph', 'published': '2021-08-18 18:00:04+00:00', 'authors': '1. Alexander Jentsch\\n2. Zhoudunming Tu\\n3. Christian Weiss'}),\n",
       " Document(page_content='V. Discussion 17\\nA. Experimental uncertainties and eﬀects 17\\nB. Theoretical and ﬁt uncertainties 19\\nVI. Conclusions 21\\nVII. Extensions 21\\nAcknowledgments 22\\nA. Deuteron structure model 22', metadata={'arxiv_id': 'http://arxiv.org/abs/2108.08314v1', 'title': 'Deep-inelastic electron-deuteron scattering with spectator nucleon tagging at the electron-ion collider. Extracting free nucleon structure', 'categories': '1. hep-ph\\n2. hep-ex\\n3. nucl-ex', 'primary_category': 'hep-ph', 'published': '2021-08-18 18:00:04+00:00', 'authors': '1. Alexander Jentsch\\n2. Zhoudunming Tu\\n3. Christian Weiss'}),\n",
       " Document(page_content='1. Light-front spectral function 22\\n2. Proton and neutron momenta 23\\n3. Spin degrees of freedom 24\\n4. Non-relativistic approximation 25\\n5. Nucleon pole 25\\n6. Two-pole parametrization 26', metadata={'arxiv_id': 'http://arxiv.org/abs/2108.08314v1', 'title': 'Deep-inelastic electron-deuteron scattering with spectator nucleon tagging at the electron-ion collider. Extracting free nucleon structure', 'categories': '1. hep-ph\\n2. hep-ex\\n3. nucl-ex', 'primary_category': 'hep-ph', 'published': '2021-08-18 18:00:04+00:00', 'authors': '1. Alexander Jentsch\\n2. Zhoudunming Tu\\n3. Christian Weiss'}),\n",
       " Document(page_content='B. Detector simulations 26\\n1. Geometric acceptance 26\\n2. Momentum resolution 28\\nReferences 30arXiv:2108.08314v1  [hep-ph]  18 Aug 2021', metadata={'arxiv_id': 'http://arxiv.org/abs/2108.08314v1', 'title': 'Deep-inelastic electron-deuteron scattering with spectator nucleon tagging at the electron-ion collider. Extracting free nucleon structure', 'categories': '1. hep-ph\\n2. hep-ex\\n3. nucl-ex', 'primary_category': 'hep-ph', 'published': '2021-08-18 18:00:04+00:00', 'authors': '1. Alexander Jentsch\\n2. Zhoudunming Tu\\n3. Christian Weiss'})]"
      ]
     },
     "execution_count": 19,
     "metadata": {},
     "output_type": "execute_result"
    }
   ],
   "source": [
    "texts"
   ]
  },
  {
   "cell_type": "code",
   "execution_count": 19,
   "metadata": {},
   "outputs": [],
   "source": [
    "\n",
    "from langchain_openai.embeddings import OpenAIEmbeddings\n",
    "os.environ[\"OPENAI_API_KEY\"] = \"api_key\"\n",
    "embeddings = OpenAIEmbeddings()\n",
    "from langchain_community.vectorstores import Chroma\n",
    "\n",
    "# save to disk\n",
    "db = Chroma.from_documents(texts, embeddings, persist_directory=\"./chroma_db\")"
   ]
  },
  {
   "cell_type": "code",
   "execution_count": 22,
   "metadata": {},
   "outputs": [
    {
     "name": "stdout",
     "output_type": "stream",
     "text": [
      "Help on method similarity_search in module langchain_community.vectorstores.chroma:\n",
      "\n",
      "similarity_search(query: 'str', k: 'int' = 4, filter: 'Optional[Dict[str, str]]' = None, **kwargs: 'Any') -> 'List[Document]' method of langchain_community.vectorstores.chroma.Chroma instance\n",
      "    Run similarity search with Chroma.\n",
      "    \n",
      "    Args:\n",
      "        query (str): Query text to search for.\n",
      "        k (int): Number of results to return. Defaults to 4.\n",
      "        filter (Optional[Dict[str, str]]): Filter by metadata. Defaults to None.\n",
      "    \n",
      "    Returns:\n",
      "        List[Document]: List of documents most similar to the query text.\n",
      "\n"
     ]
    }
   ],
   "source": [
    "help(db.similarity_search)"
   ]
  },
  {
   "cell_type": "code",
   "execution_count": 21,
   "metadata": {},
   "outputs": [
    {
     "data": {
      "text/plain": [
       "[Document(page_content='1 Introduction\\nThe Monte Carlo event generator Sar tre[1–3]was the ﬁrst model based on event-by-event ﬂuctu-', metadata={'arxiv_id': 'http://arxiv.org/abs/2108.01944v1', 'authors': '1. Tobias Toll', 'category': 'hep-ph', 'published': '2021-08-04 10:17:28+00:00', 'summary': \"Sartre has been extensively used for describing photon-nuclei processes at\\nthe electron-ion collider (EIC) as well as ultra-peripheral collisions (UPC) at\\nLHC and RHIC. Sartre is an event generator which implements the dipole model\\nfor DIS, and models the transverse geometry of the target nucleus or proton in\\ncoordinate space. It uses the Good-Walker mechanism for simulating fluctuations\\nwhich contribute to the incoherent cross section for which the target breaks up\\nafter the interaction. With improved precision of UPC measurements in the last\\nyears, a detailed test of the dipole model has become possible, and Sartre's\\nmodel was found lacking. In these proceedings we add subnucleon fluctuations to\\nthe nucleus and show that this is sufficient for describing the vast majority\\nof the present measurements. We also find that for larger momentum transfers in\\nthe nucleus, which probes gluon fluctuations at higher resolution, the current\\ncomplexity of the model may not suffice. Future measurements at the LHC, RHIC\\nand especially the EIC has the potential to reveal these gluon vacuum\\nfluctuations and glean novel insights into the self-interacting quantum field\\nof QCD.\", 'title': 'Subnucleon fluctuations in coherent and incoherent ultra-peripheral AA collisions at LHC and RHIC with the Sartre event generator'}),\n",
       " Document(page_content='AA collisions at LHC and RHIC with the Sar tre event generator.\\nTobias Toll\\nIndian Institute of Technology Delhi', metadata={'arxiv_id': 'http://arxiv.org/abs/2108.01944v1', 'authors': '1. Tobias Toll', 'category': 'hep-ph', 'published': '2021-08-04 10:17:28+00:00', 'summary': \"Sartre has been extensively used for describing photon-nuclei processes at\\nthe electron-ion collider (EIC) as well as ultra-peripheral collisions (UPC) at\\nLHC and RHIC. Sartre is an event generator which implements the dipole model\\nfor DIS, and models the transverse geometry of the target nucleus or proton in\\ncoordinate space. It uses the Good-Walker mechanism for simulating fluctuations\\nwhich contribute to the incoherent cross section for which the target breaks up\\nafter the interaction. With improved precision of UPC measurements in the last\\nyears, a detailed test of the dipole model has become possible, and Sartre's\\nmodel was found lacking. In these proceedings we add subnucleon fluctuations to\\nthe nucleus and show that this is sufficient for describing the vast majority\\nof the present measurements. We also find that for larger momentum transfers in\\nthe nucleus, which probes gluon fluctuations at higher resolution, the current\\ncomplexity of the model may not suffice. Future measurements at the LHC, RHIC\\nand especially the EIC has the potential to reveal these gluon vacuum\\nfluctuations and glean novel insights into the self-interacting quantum field\\nof QCD.\", 'title': 'Subnucleon fluctuations in coherent and incoherent ultra-peripheral AA collisions at LHC and RHIC with the Sartre event generator'}),\n",
       " Document(page_content='scattering (DIS) events. Sar tre uses the bSat dipole model [4–9]for which the amplitude is given\\nby[6]:\\nAγ∗p→J/Ψp', metadata={'arxiv_id': 'http://arxiv.org/abs/2108.01944v1', 'authors': '1. Tobias Toll', 'category': 'hep-ph', 'published': '2021-08-04 10:17:28+00:00', 'summary': \"Sartre has been extensively used for describing photon-nuclei processes at\\nthe electron-ion collider (EIC) as well as ultra-peripheral collisions (UPC) at\\nLHC and RHIC. Sartre is an event generator which implements the dipole model\\nfor DIS, and models the transverse geometry of the target nucleus or proton in\\ncoordinate space. It uses the Good-Walker mechanism for simulating fluctuations\\nwhich contribute to the incoherent cross section for which the target breaks up\\nafter the interaction. With improved precision of UPC measurements in the last\\nyears, a detailed test of the dipole model has become possible, and Sartre's\\nmodel was found lacking. In these proceedings we add subnucleon fluctuations to\\nthe nucleus and show that this is sufficient for describing the vast majority\\nof the present measurements. We also find that for larger momentum transfers in\\nthe nucleus, which probes gluon fluctuations at higher resolution, the current\\ncomplexity of the model may not suffice. Future measurements at the LHC, RHIC\\nand especially the EIC has the potential to reveal these gluon vacuum\\nfluctuations and glean novel insights into the self-interacting quantum field\\nof QCD.\", 'title': 'Subnucleon fluctuations in coherent and incoherent ultra-peripheral AA collisions at LHC and RHIC with the Sartre event generator'}),\n",
       " Document(page_content='generator which implements the dipole model for DIS, and models the transverse geometry', metadata={'arxiv_id': 'http://arxiv.org/abs/2108.01944v1', 'authors': '1. Tobias Toll', 'category': 'hep-ph', 'published': '2021-08-04 10:17:28+00:00', 'summary': \"Sartre has been extensively used for describing photon-nuclei processes at\\nthe electron-ion collider (EIC) as well as ultra-peripheral collisions (UPC) at\\nLHC and RHIC. Sartre is an event generator which implements the dipole model\\nfor DIS, and models the transverse geometry of the target nucleus or proton in\\ncoordinate space. It uses the Good-Walker mechanism for simulating fluctuations\\nwhich contribute to the incoherent cross section for which the target breaks up\\nafter the interaction. With improved precision of UPC measurements in the last\\nyears, a detailed test of the dipole model has become possible, and Sartre's\\nmodel was found lacking. In these proceedings we add subnucleon fluctuations to\\nthe nucleus and show that this is sufficient for describing the vast majority\\nof the present measurements. We also find that for larger momentum transfers in\\nthe nucleus, which probes gluon fluctuations at higher resolution, the current\\ncomplexity of the model may not suffice. Future measurements at the LHC, RHIC\\nand especially the EIC has the potential to reveal these gluon vacuum\\nfluctuations and glean novel insights into the self-interacting quantum field\\nof QCD.\", 'title': 'Subnucleon fluctuations in coherent and incoherent ultra-peripheral AA collisions at LHC and RHIC with the Sartre event generator'})]"
      ]
     },
     "execution_count": 21,
     "metadata": {},
     "output_type": "execute_result"
    }
   ],
   "source": [
    "\n",
    "query = \"What is Sartre generator?\"\n",
    "db.similarity_search(query)"
   ]
  },
  {
   "cell_type": "code",
   "execution_count": null,
   "metadata": {},
   "outputs": [],
   "source": [
    "vec = embeddings.embed_query(texts[0].page_content)"
   ]
  },
  {
   "cell_type": "code",
   "execution_count": null,
   "metadata": {},
   "outputs": [],
   "source": [
    "len(vec)"
   ]
  },
  {
   "cell_type": "code",
   "execution_count": null,
   "metadata": {},
   "outputs": [],
   "source": [
    "import chromadb, os\n",
    "\n",
    "os.environ[\"ALLOW_RESET\"] = \"TRUE\"\n",
    "\n",
    "chroma_client = chromadb.PersistentClient(path = \"test.db\")\n",
    "\n",
    "chroma_client.heartbeat()\n",
    "chroma_client.reset()\n"
   ]
  },
  {
   "cell_type": "code",
   "execution_count": null,
   "metadata": {},
   "outputs": [],
   "source": [
    "from chromadb import Documents, EmbeddingFunction, Embeddings\n",
    "from chromadb.api.types import Images\n",
    "import numpy as np\n",
    "from typing import cast, TypeVar, Union\n",
    "from typing_extensions import Protocol\n",
    "\n",
    "Embeddable = Union[Documents, Images]\n",
    "D = TypeVar(\"D\", bound=Embeddable, contravariant=True)\n",
    "class MyEmbeddingFunction(EmbeddingFunction):\n",
    "    def __call__(self, input: D) -> Embeddings:\n",
    "        # embed the documents somehow\n",
    "        return  [np.random.uniform(low = 0, high = 4, size = 3).tolist() for _ in range(len(input))]\n",
    "\n",
    "collection = chroma_client.get_or_create_collection(name=\"new_collection\", embedding_function=MyEmbeddingFunction())"
   ]
  },
  {
   "cell_type": "code",
   "execution_count": null,
   "metadata": {},
   "outputs": [],
   "source": [
    "\n",
    "collection.add(\n",
    "    documents=[\"This is a document\", \"This is another document\"],\n",
    "    metadatas=[{\"source\": \"my_source\"}, {\"source\": \"my_source\"}],\n",
    "    ids=[\"id1\", \"id2\"]\n",
    ")"
   ]
  },
  {
   "cell_type": "code",
   "execution_count": null,
   "metadata": {},
   "outputs": [],
   "source": [
    "results = collection.query(\n",
    "    query_texts=[\"This is a query document\"],\n",
    "    n_results=2\n",
    ")"
   ]
  },
  {
   "cell_type": "code",
   "execution_count": null,
   "metadata": {},
   "outputs": [],
   "source": [
    "results"
   ]
  },
  {
   "cell_type": "code",
   "execution_count": null,
   "metadata": {},
   "outputs": [],
   "source": []
  }
 ],
 "metadata": {
  "kernelspec": {
   "display_name": "env_RAG-EIC",
   "language": "python",
   "name": "python3"
  },
  "language_info": {
   "codemirror_mode": {
    "name": "ipython",
    "version": 3
   },
   "file_extension": ".py",
   "mimetype": "text/x-python",
   "name": "python",
   "nbconvert_exporter": "python",
   "pygments_lexer": "ipython3",
   "version": "3.10.13"
  }
 },
 "nbformat": 4,
 "nbformat_minor": 2
}
